{
  "cells": [
    {
      "cell_type": "markdown",
      "metadata": {
        "id": "H7da_I5MzuK5"
      },
      "source": [
        "We will work on the implementation of SVM \n",
        "Data: Prediction of the grant of personal loan to the customer based on his demographic and financial attributes\n",
        "\n",
        "While solving the continuous value prediction problem, perform target based encoding of the categorical attributes"
      ]
    },
    {
      "cell_type": "code",
      "execution_count": 1,
      "metadata": {
        "id": "yMrb43Yvvr6F"
      },
      "outputs": [],
      "source": [
        "#### Import the necessary modules\n",
        "## To read and manipulate the data/dataframe\n",
        "import pandas as pd\n",
        "import numpy as np\n",
        "\n",
        "## For Data Preprocessing\n",
        "from sklearn.impute import SimpleImputer\n",
        "from sklearn.preprocessing import OneHotEncoder, StandardScaler\n",
        "\n",
        "## For Modelling\n",
        "from sklearn.model_selection import train_test_split, GridSearchCV\n",
        "from sklearn.svm import SVC, SVR\n",
        "\n",
        "## Evaluation metrics\n",
        "from sklearn.metrics import confusion_matrix, classification_report\n"
      ]
    },
    {
      "cell_type": "code",
      "execution_count": 2,
      "metadata": {
        "colab": {
          "base_uri": "https://localhost:8080/"
        },
        "id": "U8j93Q6g2mLD",
        "outputId": "bc700984-8983-4dd8-f743-373434496e20"
      },
      "outputs": [
        {
          "data": {
            "text/plain": [
              "(5000, 14)"
            ]
          },
          "execution_count": 2,
          "metadata": {},
          "output_type": "execute_result"
        }
      ],
      "source": [
        "data=pd.read_csv(\"UnivBank.csv\",na_values=['?',\"#\"])\n",
        "data.shape"
      ]
    },
    {
      "cell_type": "code",
      "execution_count": 3,
      "metadata": {
        "colab": {
          "base_uri": "https://localhost:8080/"
        },
        "id": "aQzCClEA_HGY",
        "outputId": "8b460414-07fc-474e-e57b-b55507d55d38"
      },
      "outputs": [
        {
          "data": {
            "text/plain": [
              "Index(['ID', 'Age', 'Experience', 'Income', 'ZIP Code', 'Family', 'CCAvg',\n",
              "       'Education', 'Mortgage', 'Personal Loan', 'Securities Account',\n",
              "       'CD Account', 'Online', 'CreditCard'],\n",
              "      dtype='object')"
            ]
          },
          "execution_count": 3,
          "metadata": {},
          "output_type": "execute_result"
        }
      ],
      "source": [
        "data.columns"
      ]
    },
    {
      "cell_type": "code",
      "execution_count": 4,
      "metadata": {
        "id": "i9RCiyGg_sZp"
      },
      "outputs": [],
      "source": [
        "X=data.drop('Personal Loan',axis=1)\n",
        "y=data['Personal Loan']"
      ]
    },
    {
      "cell_type": "code",
      "execution_count": 4,
      "metadata": {
        "id": "rwS9WGt--A0_"
      },
      "outputs": [],
      "source": [
        "X_train,X_test,y_train,y_test=train_test_split(data.loc[:,data.columns !='Personal Loan'],data.loc[:,'Personal Loan'],test_size=0.3,random_state=123)"
      ]
    },
    {
      "cell_type": "code",
      "execution_count": 5,
      "metadata": {
        "colab": {
          "base_uri": "https://localhost:8080/"
        },
        "id": "xG7Yq7xd_XFt",
        "outputId": "cfdca35b-f864-40bb-c1e8-0fd99f69da54"
      },
      "outputs": [
        {
          "name": "stdout",
          "output_type": "stream",
          "text": [
            "(3500, 13)\n",
            "(3500,)\n",
            "(1500, 13)\n",
            "(1500,)\n"
          ]
        }
      ],
      "source": [
        "print(X_train.shape)\n",
        "print(y_train.shape)\n",
        "print(X_test.shape)\n",
        "print(y_test.shape)"
      ]
    },
    {
      "cell_type": "code",
      "execution_count": 6,
      "metadata": {
        "colab": {
          "base_uri": "https://localhost:8080/"
        },
        "id": "cDbdvHFzCGm7",
        "outputId": "7542d50d-1464-4d16-9543-291d93d211db"
      },
      "outputs": [
        {
          "data": {
            "text/plain": [
              "ID                      int64\n",
              "Age                     int64\n",
              "Experience              int64\n",
              "Income                  int64\n",
              "ZIP Code                int64\n",
              "Family                  int64\n",
              "CCAvg                 float64\n",
              "Education               int64\n",
              "Mortgage              float64\n",
              "Securities Account    float64\n",
              "CD Account            float64\n",
              "Online                  int64\n",
              "CreditCard              int64\n",
              "dtype: object"
            ]
          },
          "execution_count": 6,
          "metadata": {},
          "output_type": "execute_result"
        }
      ],
      "source": [
        "X_train.dtypes"
      ]
    },
    {
      "cell_type": "code",
      "execution_count": 7,
      "metadata": {
        "id": "9l3wLcLD_gft"
      },
      "outputs": [],
      "source": [
        "#### Type conversion\n",
        "to_drop=['ID','ZIP Code']\n",
        "cat=['Family','Education', 'Securities Account','CD Account', 'Online', 'CreditCard']"
      ]
    },
    {
      "cell_type": "code",
      "execution_count": 8,
      "metadata": {
        "id": "2PZGU5W5CZhC"
      },
      "outputs": [],
      "source": [
        "## Type conversion on train\n",
        "X_train[cat]=X_train[cat].astype('category')"
      ]
    },
    {
      "cell_type": "code",
      "execution_count": 9,
      "metadata": {
        "id": "RqDtnJrwC4R8"
      },
      "outputs": [],
      "source": [
        "## Type conversion on test\n",
        "X_test[cat]=X_test[cat].astype('category')"
      ]
    },
    {
      "cell_type": "code",
      "execution_count": 10,
      "metadata": {
        "colab": {
          "base_uri": "https://localhost:8080/"
        },
        "id": "_uTXdJefCjis",
        "outputId": "4d301691-1e9d-4c47-8fe5-245bc21c81d8"
      },
      "outputs": [
        {
          "data": {
            "text/plain": [
              "ID                       int64\n",
              "Age                      int64\n",
              "Experience               int64\n",
              "Income                   int64\n",
              "ZIP Code                 int64\n",
              "Family                category\n",
              "CCAvg                  float64\n",
              "Education             category\n",
              "Mortgage               float64\n",
              "Securities Account    category\n",
              "CD Account            category\n",
              "Online                category\n",
              "CreditCard            category\n",
              "dtype: object"
            ]
          },
          "execution_count": 10,
          "metadata": {},
          "output_type": "execute_result"
        }
      ],
      "source": [
        "X_train.dtypes"
      ]
    },
    {
      "cell_type": "code",
      "execution_count": 11,
      "metadata": {
        "id": "X906nPD2CmM0"
      },
      "outputs": [],
      "source": [
        "### Dropping attributes\n",
        "X_train.drop(to_drop,axis=1,inplace=True)\n",
        "X_test.drop(to_drop,axis=1,inplace=True)"
      ]
    },
    {
      "cell_type": "code",
      "execution_count": 12,
      "metadata": {
        "colab": {
          "base_uri": "https://localhost:8080/"
        },
        "id": "geHJpR1hDNKA",
        "outputId": "7344a65a-a3a3-4464-e39b-b74b6acc3afc"
      },
      "outputs": [
        {
          "data": {
            "text/plain": [
              "Age                      int64\n",
              "Experience               int64\n",
              "Income                   int64\n",
              "Family                category\n",
              "CCAvg                  float64\n",
              "Education             category\n",
              "Mortgage               float64\n",
              "Securities Account    category\n",
              "CD Account            category\n",
              "Online                category\n",
              "CreditCard            category\n",
              "dtype: object"
            ]
          },
          "execution_count": 12,
          "metadata": {},
          "output_type": "execute_result"
        }
      ],
      "source": [
        "X_train.dtypes"
      ]
    },
    {
      "cell_type": "code",
      "execution_count": 13,
      "metadata": {
        "colab": {
          "base_uri": "https://localhost:8080/"
        },
        "id": "Ghk8Co4MDPv_",
        "outputId": "acb5ee7b-2987-442d-b2b2-5caed59b75ea"
      },
      "outputs": [
        {
          "data": {
            "text/plain": [
              "Age                   0\n",
              "Experience            0\n",
              "Income                0\n",
              "Family                0\n",
              "CCAvg                 0\n",
              "Education             0\n",
              "Mortgage              1\n",
              "Securities Account    2\n",
              "CD Account            1\n",
              "Online                0\n",
              "CreditCard            0\n",
              "dtype: int64"
            ]
          },
          "execution_count": 13,
          "metadata": {},
          "output_type": "execute_result"
        }
      ],
      "source": [
        "X_train.isna().sum()"
      ]
    },
    {
      "cell_type": "code",
      "execution_count": 14,
      "metadata": {
        "id": "a8uzHXgTEmbe"
      },
      "outputs": [],
      "source": [
        "###\n",
        "si_num=SimpleImputer(strategy=\"mean\")\n",
        "si_cat=SimpleImputer(strategy='most_frequent')"
      ]
    },
    {
      "cell_type": "code",
      "execution_count": 15,
      "metadata": {
        "id": "JTClSCtAFMC5"
      },
      "outputs": [],
      "source": [
        "X_train_num=X_train.drop(cat,axis=1)\n",
        "X_train_cat=X_train[cat]\n",
        "\n",
        "### on test\n",
        "X_test_num=X_test.drop(cat,axis=1)\n",
        "X_test_cat=X_test[cat]"
      ]
    },
    {
      "cell_type": "code",
      "execution_count": 16,
      "metadata": {
        "colab": {
          "base_uri": "https://localhost:8080/"
        },
        "id": "VjP9HQJfG9J8",
        "outputId": "966534af-b0d9-45a7-9e8b-b478cab783ce"
      },
      "outputs": [
        {
          "data": {
            "text/plain": [
              "Age             int64\n",
              "Experience      int64\n",
              "Income          int64\n",
              "CCAvg         float64\n",
              "Mortgage      float64\n",
              "dtype: object"
            ]
          },
          "execution_count": 16,
          "metadata": {},
          "output_type": "execute_result"
        }
      ],
      "source": [
        "X_train_num.dtypes"
      ]
    },
    {
      "cell_type": "code",
      "execution_count": 17,
      "metadata": {
        "colab": {
          "base_uri": "https://localhost:8080/"
        },
        "id": "ouVNgKRmHAaK",
        "outputId": "b4c69857-c9f0-469d-830c-fbabdb7de387"
      },
      "outputs": [
        {
          "data": {
            "text/plain": [
              "Family                category\n",
              "Education             category\n",
              "Securities Account    category\n",
              "CD Account            category\n",
              "Online                category\n",
              "CreditCard            category\n",
              "dtype: object"
            ]
          },
          "execution_count": 17,
          "metadata": {},
          "output_type": "execute_result"
        }
      ],
      "source": [
        "X_train_cat.dtypes"
      ]
    },
    {
      "cell_type": "code",
      "execution_count": 18,
      "metadata": {
        "id": "qsx-GyMTHSo6"
      },
      "outputs": [],
      "source": [
        "X_train_num=pd.DataFrame(si_num.fit_transform(X_train_num),columns=X_train_num.columns)\n"
      ]
    },
    {
      "cell_type": "code",
      "execution_count": 19,
      "metadata": {
        "colab": {
          "base_uri": "https://localhost:8080/"
        },
        "id": "i4iyGFnUIhOn",
        "outputId": "e73ff1b2-d4fb-4972-ef90-cff22a320f59"
      },
      "outputs": [
        {
          "data": {
            "text/plain": [
              "Age           0\n",
              "Experience    0\n",
              "Income        0\n",
              "CCAvg         0\n",
              "Mortgage      0\n",
              "dtype: int64"
            ]
          },
          "execution_count": 19,
          "metadata": {},
          "output_type": "execute_result"
        }
      ],
      "source": [
        "X_train_num.isna().sum()"
      ]
    },
    {
      "cell_type": "code",
      "execution_count": 20,
      "metadata": {
        "id": "tvr9MEmWHtYK"
      },
      "outputs": [],
      "source": [
        "X_train_cat=pd.DataFrame(si_cat.fit_transform(X_train_cat),columns=X_train_cat.columns)"
      ]
    },
    {
      "cell_type": "code",
      "execution_count": 21,
      "metadata": {
        "colab": {
          "base_uri": "https://localhost:8080/"
        },
        "id": "kJgzrbBkHxpD",
        "outputId": "1b7c7b84-772f-4712-9689-b5ed40d44f1b"
      },
      "outputs": [
        {
          "data": {
            "text/plain": [
              "Family                0\n",
              "Education             0\n",
              "Securities Account    0\n",
              "CD Account            0\n",
              "Online                0\n",
              "CreditCard            0\n",
              "dtype: int64"
            ]
          },
          "execution_count": 21,
          "metadata": {},
          "output_type": "execute_result"
        }
      ],
      "source": [
        "X_train_cat.isna().sum()"
      ]
    },
    {
      "cell_type": "code",
      "execution_count": 22,
      "metadata": {
        "colab": {
          "base_uri": "https://localhost:8080/"
        },
        "id": "KTQ0L6dwID_7",
        "outputId": "90990eeb-c6d8-4551-d89b-a9f981e5d710"
      },
      "outputs": [
        {
          "data": {
            "text/plain": [
              "Age           0\n",
              "Experience    0\n",
              "Income        0\n",
              "CCAvg         0\n",
              "Mortgage      0\n",
              "dtype: int64"
            ]
          },
          "execution_count": 22,
          "metadata": {},
          "output_type": "execute_result"
        }
      ],
      "source": [
        "X_test_num=pd.DataFrame(si_num.transform(X_test_num),columns=X_test_num.columns)\n",
        "X_test_num.isna().sum()"
      ]
    },
    {
      "cell_type": "code",
      "execution_count": 23,
      "metadata": {
        "id": "_X1e_647JYpc"
      },
      "outputs": [],
      "source": [
        "X_test_cat=pd.DataFrame(si_cat.transform(X_test_cat),columns=X_test_cat.columns)"
      ]
    },
    {
      "cell_type": "code",
      "execution_count": 24,
      "metadata": {
        "id": "ZTtOSkcpJhps"
      },
      "outputs": [],
      "source": [
        "### Statndardization of the numeric data\n",
        "std= StandardScaler()\n",
        "X_train_num=pd.DataFrame(std.fit_transform(X_train_num),columns= X_train_num.columns)\n",
        "X_test_num=pd.DataFrame(std.transform(X_test_num),columns=X_test_num.columns)"
      ]
    },
    {
      "cell_type": "code",
      "execution_count": 25,
      "metadata": {
        "colab": {
          "base_uri": "https://localhost:8080/",
          "height": 363
        },
        "id": "mtwbwQChMG3O",
        "outputId": "59b420f6-4948-4088-daf5-5902fefe1336"
      },
      "outputs": [
        {
          "data": {
            "text/html": [
              "\n",
              "  <div id=\"df-12b14a47-958f-4b42-8643-e3734535739d\">\n",
              "    <div class=\"colab-df-container\">\n",
              "      <div>\n",
              "<style scoped>\n",
              "    .dataframe tbody tr th:only-of-type {\n",
              "        vertical-align: middle;\n",
              "    }\n",
              "\n",
              "    .dataframe tbody tr th {\n",
              "        vertical-align: top;\n",
              "    }\n",
              "\n",
              "    .dataframe thead th {\n",
              "        text-align: right;\n",
              "    }\n",
              "</style>\n",
              "<table border=\"1\" class=\"dataframe\">\n",
              "  <thead>\n",
              "    <tr style=\"text-align: right;\">\n",
              "      <th></th>\n",
              "      <th>Age</th>\n",
              "      <th>Experience</th>\n",
              "      <th>Income</th>\n",
              "      <th>CCAvg</th>\n",
              "      <th>Mortgage</th>\n",
              "    </tr>\n",
              "  </thead>\n",
              "  <tbody>\n",
              "    <tr>\n",
              "      <th>0</th>\n",
              "      <td>0.066285</td>\n",
              "      <td>0.087957</td>\n",
              "      <td>-1.320429</td>\n",
              "      <td>-0.706115</td>\n",
              "      <td>-0.551912</td>\n",
              "    </tr>\n",
              "    <tr>\n",
              "      <th>1</th>\n",
              "      <td>-0.463392</td>\n",
              "      <td>-0.530394</td>\n",
              "      <td>0.396236</td>\n",
              "      <td>-0.306566</td>\n",
              "      <td>-0.551912</td>\n",
              "    </tr>\n",
              "    <tr>\n",
              "      <th>2</th>\n",
              "      <td>1.390479</td>\n",
              "      <td>1.501330</td>\n",
              "      <td>-0.711990</td>\n",
              "      <td>-0.649036</td>\n",
              "      <td>-0.551912</td>\n",
              "    </tr>\n",
              "    <tr>\n",
              "      <th>3</th>\n",
              "      <td>-1.346188</td>\n",
              "      <td>-1.237080</td>\n",
              "      <td>-0.690261</td>\n",
              "      <td>0.092982</td>\n",
              "      <td>-0.551912</td>\n",
              "    </tr>\n",
              "    <tr>\n",
              "      <th>4</th>\n",
              "      <td>-1.964145</td>\n",
              "      <td>-1.855431</td>\n",
              "      <td>-0.016633</td>\n",
              "      <td>0.378374</td>\n",
              "      <td>-0.551912</td>\n",
              "    </tr>\n",
              "    <tr>\n",
              "      <th>5</th>\n",
              "      <td>1.390479</td>\n",
              "      <td>1.501330</td>\n",
              "      <td>-0.299122</td>\n",
              "      <td>0.035904</td>\n",
              "      <td>-0.551912</td>\n",
              "    </tr>\n",
              "    <tr>\n",
              "      <th>6</th>\n",
              "      <td>-1.434467</td>\n",
              "      <td>-1.502088</td>\n",
              "      <td>0.374506</td>\n",
              "      <td>0.835001</td>\n",
              "      <td>-0.551912</td>\n",
              "    </tr>\n",
              "    <tr>\n",
              "      <th>7</th>\n",
              "      <td>0.507683</td>\n",
              "      <td>0.441301</td>\n",
              "      <td>2.156360</td>\n",
              "      <td>-0.820271</td>\n",
              "      <td>-0.551912</td>\n",
              "    </tr>\n",
              "    <tr>\n",
              "      <th>8</th>\n",
              "      <td>1.125640</td>\n",
              "      <td>1.236323</td>\n",
              "      <td>-0.299122</td>\n",
              "      <td>-0.192409</td>\n",
              "      <td>-0.551912</td>\n",
              "    </tr>\n",
              "    <tr>\n",
              "      <th>9</th>\n",
              "      <td>-1.169629</td>\n",
              "      <td>-1.060408</td>\n",
              "      <td>-0.299122</td>\n",
              "      <td>-0.420723</td>\n",
              "      <td>-0.551912</td>\n",
              "    </tr>\n",
              "  </tbody>\n",
              "</table>\n",
              "</div>\n",
              "      <button class=\"colab-df-convert\" onclick=\"convertToInteractive('df-12b14a47-958f-4b42-8643-e3734535739d')\"\n",
              "              title=\"Convert this dataframe to an interactive table.\"\n",
              "              style=\"display:none;\">\n",
              "        \n",
              "  <svg xmlns=\"http://www.w3.org/2000/svg\" height=\"24px\"viewBox=\"0 0 24 24\"\n",
              "       width=\"24px\">\n",
              "    <path d=\"M0 0h24v24H0V0z\" fill=\"none\"/>\n",
              "    <path d=\"M18.56 5.44l.94 2.06.94-2.06 2.06-.94-2.06-.94-.94-2.06-.94 2.06-2.06.94zm-11 1L8.5 8.5l.94-2.06 2.06-.94-2.06-.94L8.5 2.5l-.94 2.06-2.06.94zm10 10l.94 2.06.94-2.06 2.06-.94-2.06-.94-.94-2.06-.94 2.06-2.06.94z\"/><path d=\"M17.41 7.96l-1.37-1.37c-.4-.4-.92-.59-1.43-.59-.52 0-1.04.2-1.43.59L10.3 9.45l-7.72 7.72c-.78.78-.78 2.05 0 2.83L4 21.41c.39.39.9.59 1.41.59.51 0 1.02-.2 1.41-.59l7.78-7.78 2.81-2.81c.8-.78.8-2.07 0-2.86zM5.41 20L4 18.59l7.72-7.72 1.47 1.35L5.41 20z\"/>\n",
              "  </svg>\n",
              "      </button>\n",
              "      \n",
              "  <style>\n",
              "    .colab-df-container {\n",
              "      display:flex;\n",
              "      flex-wrap:wrap;\n",
              "      gap: 12px;\n",
              "    }\n",
              "\n",
              "    .colab-df-convert {\n",
              "      background-color: #E8F0FE;\n",
              "      border: none;\n",
              "      border-radius: 50%;\n",
              "      cursor: pointer;\n",
              "      display: none;\n",
              "      fill: #1967D2;\n",
              "      height: 32px;\n",
              "      padding: 0 0 0 0;\n",
              "      width: 32px;\n",
              "    }\n",
              "\n",
              "    .colab-df-convert:hover {\n",
              "      background-color: #E2EBFA;\n",
              "      box-shadow: 0px 1px 2px rgba(60, 64, 67, 0.3), 0px 1px 3px 1px rgba(60, 64, 67, 0.15);\n",
              "      fill: #174EA6;\n",
              "    }\n",
              "\n",
              "    [theme=dark] .colab-df-convert {\n",
              "      background-color: #3B4455;\n",
              "      fill: #D2E3FC;\n",
              "    }\n",
              "\n",
              "    [theme=dark] .colab-df-convert:hover {\n",
              "      background-color: #434B5C;\n",
              "      box-shadow: 0px 1px 3px 1px rgba(0, 0, 0, 0.15);\n",
              "      filter: drop-shadow(0px 1px 2px rgba(0, 0, 0, 0.3));\n",
              "      fill: #FFFFFF;\n",
              "    }\n",
              "  </style>\n",
              "\n",
              "      <script>\n",
              "        const buttonEl =\n",
              "          document.querySelector('#df-12b14a47-958f-4b42-8643-e3734535739d button.colab-df-convert');\n",
              "        buttonEl.style.display =\n",
              "          google.colab.kernel.accessAllowed ? 'block' : 'none';\n",
              "\n",
              "        async function convertToInteractive(key) {\n",
              "          const element = document.querySelector('#df-12b14a47-958f-4b42-8643-e3734535739d');\n",
              "          const dataTable =\n",
              "            await google.colab.kernel.invokeFunction('convertToInteractive',\n",
              "                                                     [key], {});\n",
              "          if (!dataTable) return;\n",
              "\n",
              "          const docLinkHtml = 'Like what you see? Visit the ' +\n",
              "            '<a target=\"_blank\" href=https://colab.research.google.com/notebooks/data_table.ipynb>data table notebook</a>'\n",
              "            + ' to learn more about interactive tables.';\n",
              "          element.innerHTML = '';\n",
              "          dataTable['output_type'] = 'display_data';\n",
              "          await google.colab.output.renderOutput(dataTable, element);\n",
              "          const docLink = document.createElement('div');\n",
              "          docLink.innerHTML = docLinkHtml;\n",
              "          element.appendChild(docLink);\n",
              "        }\n",
              "      </script>\n",
              "    </div>\n",
              "  </div>\n",
              "  "
            ],
            "text/plain": [
              "        Age  Experience    Income     CCAvg  Mortgage\n",
              "0  0.066285    0.087957 -1.320429 -0.706115 -0.551912\n",
              "1 -0.463392   -0.530394  0.396236 -0.306566 -0.551912\n",
              "2  1.390479    1.501330 -0.711990 -0.649036 -0.551912\n",
              "3 -1.346188   -1.237080 -0.690261  0.092982 -0.551912\n",
              "4 -1.964145   -1.855431 -0.016633  0.378374 -0.551912\n",
              "5  1.390479    1.501330 -0.299122  0.035904 -0.551912\n",
              "6 -1.434467   -1.502088  0.374506  0.835001 -0.551912\n",
              "7  0.507683    0.441301  2.156360 -0.820271 -0.551912\n",
              "8  1.125640    1.236323 -0.299122 -0.192409 -0.551912\n",
              "9 -1.169629   -1.060408 -0.299122 -0.420723 -0.551912"
            ]
          },
          "execution_count": 25,
          "metadata": {},
          "output_type": "execute_result"
        }
      ],
      "source": [
        "X_train_num.head(10)"
      ]
    },
    {
      "cell_type": "code",
      "execution_count": 26,
      "metadata": {
        "id": "Ulpt_QB0MKFV"
      },
      "outputs": [],
      "source": [
        "## One-hot encoding of categorical data\n",
        "ohe=OneHotEncoder(handle_unknown='ignore')"
      ]
    },
    {
      "cell_type": "code",
      "execution_count": 27,
      "metadata": {
        "id": "z4AaOldhOTk-"
      },
      "outputs": [],
      "source": [
        "X_train_cat=pd.DataFrame(ohe.fit_transform(X_train_cat).todense(),columns=ohe.get_feature_names_out())"
      ]
    },
    {
      "cell_type": "code",
      "execution_count": 28,
      "metadata": {
        "colab": {
          "base_uri": "https://localhost:8080/",
          "height": 444
        },
        "id": "T5HBSce_QyD7",
        "outputId": "66b154df-2874-47eb-c5a1-e7b4a1f2c1b4"
      },
      "outputs": [
        {
          "data": {
            "text/html": [
              "\n",
              "  <div id=\"df-5fa6fc55-974f-4aea-9e09-4300078b506d\">\n",
              "    <div class=\"colab-df-container\">\n",
              "      <div>\n",
              "<style scoped>\n",
              "    .dataframe tbody tr th:only-of-type {\n",
              "        vertical-align: middle;\n",
              "    }\n",
              "\n",
              "    .dataframe tbody tr th {\n",
              "        vertical-align: top;\n",
              "    }\n",
              "\n",
              "    .dataframe thead th {\n",
              "        text-align: right;\n",
              "    }\n",
              "</style>\n",
              "<table border=\"1\" class=\"dataframe\">\n",
              "  <thead>\n",
              "    <tr style=\"text-align: right;\">\n",
              "      <th></th>\n",
              "      <th>Family_1.0</th>\n",
              "      <th>Family_2.0</th>\n",
              "      <th>Family_3.0</th>\n",
              "      <th>Family_4.0</th>\n",
              "      <th>Education_1.0</th>\n",
              "      <th>Education_2.0</th>\n",
              "      <th>Education_3.0</th>\n",
              "      <th>Securities Account_0.0</th>\n",
              "      <th>Securities Account_1.0</th>\n",
              "      <th>CD Account_0.0</th>\n",
              "      <th>CD Account_1.0</th>\n",
              "      <th>Online_0.0</th>\n",
              "      <th>Online_1.0</th>\n",
              "      <th>CreditCard_0.0</th>\n",
              "      <th>CreditCard_1.0</th>\n",
              "    </tr>\n",
              "  </thead>\n",
              "  <tbody>\n",
              "    <tr>\n",
              "      <th>0</th>\n",
              "      <td>0.0</td>\n",
              "      <td>1.0</td>\n",
              "      <td>0.0</td>\n",
              "      <td>0.0</td>\n",
              "      <td>0.0</td>\n",
              "      <td>0.0</td>\n",
              "      <td>1.0</td>\n",
              "      <td>1.0</td>\n",
              "      <td>0.0</td>\n",
              "      <td>1.0</td>\n",
              "      <td>0.0</td>\n",
              "      <td>0.0</td>\n",
              "      <td>1.0</td>\n",
              "      <td>1.0</td>\n",
              "      <td>0.0</td>\n",
              "    </tr>\n",
              "    <tr>\n",
              "      <th>1</th>\n",
              "      <td>0.0</td>\n",
              "      <td>0.0</td>\n",
              "      <td>0.0</td>\n",
              "      <td>1.0</td>\n",
              "      <td>0.0</td>\n",
              "      <td>1.0</td>\n",
              "      <td>0.0</td>\n",
              "      <td>1.0</td>\n",
              "      <td>0.0</td>\n",
              "      <td>1.0</td>\n",
              "      <td>0.0</td>\n",
              "      <td>0.0</td>\n",
              "      <td>1.0</td>\n",
              "      <td>1.0</td>\n",
              "      <td>0.0</td>\n",
              "    </tr>\n",
              "    <tr>\n",
              "      <th>2</th>\n",
              "      <td>1.0</td>\n",
              "      <td>0.0</td>\n",
              "      <td>0.0</td>\n",
              "      <td>0.0</td>\n",
              "      <td>1.0</td>\n",
              "      <td>0.0</td>\n",
              "      <td>0.0</td>\n",
              "      <td>1.0</td>\n",
              "      <td>0.0</td>\n",
              "      <td>1.0</td>\n",
              "      <td>0.0</td>\n",
              "      <td>0.0</td>\n",
              "      <td>1.0</td>\n",
              "      <td>0.0</td>\n",
              "      <td>1.0</td>\n",
              "    </tr>\n",
              "    <tr>\n",
              "      <th>3</th>\n",
              "      <td>1.0</td>\n",
              "      <td>0.0</td>\n",
              "      <td>0.0</td>\n",
              "      <td>0.0</td>\n",
              "      <td>0.0</td>\n",
              "      <td>0.0</td>\n",
              "      <td>1.0</td>\n",
              "      <td>1.0</td>\n",
              "      <td>0.0</td>\n",
              "      <td>1.0</td>\n",
              "      <td>0.0</td>\n",
              "      <td>0.0</td>\n",
              "      <td>1.0</td>\n",
              "      <td>1.0</td>\n",
              "      <td>0.0</td>\n",
              "    </tr>\n",
              "    <tr>\n",
              "      <th>4</th>\n",
              "      <td>0.0</td>\n",
              "      <td>0.0</td>\n",
              "      <td>0.0</td>\n",
              "      <td>1.0</td>\n",
              "      <td>1.0</td>\n",
              "      <td>0.0</td>\n",
              "      <td>0.0</td>\n",
              "      <td>1.0</td>\n",
              "      <td>0.0</td>\n",
              "      <td>1.0</td>\n",
              "      <td>0.0</td>\n",
              "      <td>0.0</td>\n",
              "      <td>1.0</td>\n",
              "      <td>1.0</td>\n",
              "      <td>0.0</td>\n",
              "    </tr>\n",
              "    <tr>\n",
              "      <th>5</th>\n",
              "      <td>0.0</td>\n",
              "      <td>0.0</td>\n",
              "      <td>1.0</td>\n",
              "      <td>0.0</td>\n",
              "      <td>0.0</td>\n",
              "      <td>0.0</td>\n",
              "      <td>1.0</td>\n",
              "      <td>1.0</td>\n",
              "      <td>0.0</td>\n",
              "      <td>1.0</td>\n",
              "      <td>0.0</td>\n",
              "      <td>0.0</td>\n",
              "      <td>1.0</td>\n",
              "      <td>1.0</td>\n",
              "      <td>0.0</td>\n",
              "    </tr>\n",
              "    <tr>\n",
              "      <th>6</th>\n",
              "      <td>1.0</td>\n",
              "      <td>0.0</td>\n",
              "      <td>0.0</td>\n",
              "      <td>0.0</td>\n",
              "      <td>0.0</td>\n",
              "      <td>0.0</td>\n",
              "      <td>1.0</td>\n",
              "      <td>1.0</td>\n",
              "      <td>0.0</td>\n",
              "      <td>1.0</td>\n",
              "      <td>0.0</td>\n",
              "      <td>1.0</td>\n",
              "      <td>0.0</td>\n",
              "      <td>1.0</td>\n",
              "      <td>0.0</td>\n",
              "    </tr>\n",
              "    <tr>\n",
              "      <th>7</th>\n",
              "      <td>1.0</td>\n",
              "      <td>0.0</td>\n",
              "      <td>0.0</td>\n",
              "      <td>0.0</td>\n",
              "      <td>0.0</td>\n",
              "      <td>1.0</td>\n",
              "      <td>0.0</td>\n",
              "      <td>1.0</td>\n",
              "      <td>0.0</td>\n",
              "      <td>1.0</td>\n",
              "      <td>0.0</td>\n",
              "      <td>0.0</td>\n",
              "      <td>1.0</td>\n",
              "      <td>1.0</td>\n",
              "      <td>0.0</td>\n",
              "    </tr>\n",
              "    <tr>\n",
              "      <th>8</th>\n",
              "      <td>0.0</td>\n",
              "      <td>0.0</td>\n",
              "      <td>0.0</td>\n",
              "      <td>1.0</td>\n",
              "      <td>0.0</td>\n",
              "      <td>1.0</td>\n",
              "      <td>0.0</td>\n",
              "      <td>1.0</td>\n",
              "      <td>0.0</td>\n",
              "      <td>1.0</td>\n",
              "      <td>0.0</td>\n",
              "      <td>1.0</td>\n",
              "      <td>0.0</td>\n",
              "      <td>0.0</td>\n",
              "      <td>1.0</td>\n",
              "    </tr>\n",
              "    <tr>\n",
              "      <th>9</th>\n",
              "      <td>1.0</td>\n",
              "      <td>0.0</td>\n",
              "      <td>0.0</td>\n",
              "      <td>0.0</td>\n",
              "      <td>1.0</td>\n",
              "      <td>0.0</td>\n",
              "      <td>0.0</td>\n",
              "      <td>1.0</td>\n",
              "      <td>0.0</td>\n",
              "      <td>1.0</td>\n",
              "      <td>0.0</td>\n",
              "      <td>0.0</td>\n",
              "      <td>1.0</td>\n",
              "      <td>0.0</td>\n",
              "      <td>1.0</td>\n",
              "    </tr>\n",
              "  </tbody>\n",
              "</table>\n",
              "</div>\n",
              "      <button class=\"colab-df-convert\" onclick=\"convertToInteractive('df-5fa6fc55-974f-4aea-9e09-4300078b506d')\"\n",
              "              title=\"Convert this dataframe to an interactive table.\"\n",
              "              style=\"display:none;\">\n",
              "        \n",
              "  <svg xmlns=\"http://www.w3.org/2000/svg\" height=\"24px\"viewBox=\"0 0 24 24\"\n",
              "       width=\"24px\">\n",
              "    <path d=\"M0 0h24v24H0V0z\" fill=\"none\"/>\n",
              "    <path d=\"M18.56 5.44l.94 2.06.94-2.06 2.06-.94-2.06-.94-.94-2.06-.94 2.06-2.06.94zm-11 1L8.5 8.5l.94-2.06 2.06-.94-2.06-.94L8.5 2.5l-.94 2.06-2.06.94zm10 10l.94 2.06.94-2.06 2.06-.94-2.06-.94-.94-2.06-.94 2.06-2.06.94z\"/><path d=\"M17.41 7.96l-1.37-1.37c-.4-.4-.92-.59-1.43-.59-.52 0-1.04.2-1.43.59L10.3 9.45l-7.72 7.72c-.78.78-.78 2.05 0 2.83L4 21.41c.39.39.9.59 1.41.59.51 0 1.02-.2 1.41-.59l7.78-7.78 2.81-2.81c.8-.78.8-2.07 0-2.86zM5.41 20L4 18.59l7.72-7.72 1.47 1.35L5.41 20z\"/>\n",
              "  </svg>\n",
              "      </button>\n",
              "      \n",
              "  <style>\n",
              "    .colab-df-container {\n",
              "      display:flex;\n",
              "      flex-wrap:wrap;\n",
              "      gap: 12px;\n",
              "    }\n",
              "\n",
              "    .colab-df-convert {\n",
              "      background-color: #E8F0FE;\n",
              "      border: none;\n",
              "      border-radius: 50%;\n",
              "      cursor: pointer;\n",
              "      display: none;\n",
              "      fill: #1967D2;\n",
              "      height: 32px;\n",
              "      padding: 0 0 0 0;\n",
              "      width: 32px;\n",
              "    }\n",
              "\n",
              "    .colab-df-convert:hover {\n",
              "      background-color: #E2EBFA;\n",
              "      box-shadow: 0px 1px 2px rgba(60, 64, 67, 0.3), 0px 1px 3px 1px rgba(60, 64, 67, 0.15);\n",
              "      fill: #174EA6;\n",
              "    }\n",
              "\n",
              "    [theme=dark] .colab-df-convert {\n",
              "      background-color: #3B4455;\n",
              "      fill: #D2E3FC;\n",
              "    }\n",
              "\n",
              "    [theme=dark] .colab-df-convert:hover {\n",
              "      background-color: #434B5C;\n",
              "      box-shadow: 0px 1px 3px 1px rgba(0, 0, 0, 0.15);\n",
              "      filter: drop-shadow(0px 1px 2px rgba(0, 0, 0, 0.3));\n",
              "      fill: #FFFFFF;\n",
              "    }\n",
              "  </style>\n",
              "\n",
              "      <script>\n",
              "        const buttonEl =\n",
              "          document.querySelector('#df-5fa6fc55-974f-4aea-9e09-4300078b506d button.colab-df-convert');\n",
              "        buttonEl.style.display =\n",
              "          google.colab.kernel.accessAllowed ? 'block' : 'none';\n",
              "\n",
              "        async function convertToInteractive(key) {\n",
              "          const element = document.querySelector('#df-5fa6fc55-974f-4aea-9e09-4300078b506d');\n",
              "          const dataTable =\n",
              "            await google.colab.kernel.invokeFunction('convertToInteractive',\n",
              "                                                     [key], {});\n",
              "          if (!dataTable) return;\n",
              "\n",
              "          const docLinkHtml = 'Like what you see? Visit the ' +\n",
              "            '<a target=\"_blank\" href=https://colab.research.google.com/notebooks/data_table.ipynb>data table notebook</a>'\n",
              "            + ' to learn more about interactive tables.';\n",
              "          element.innerHTML = '';\n",
              "          dataTable['output_type'] = 'display_data';\n",
              "          await google.colab.output.renderOutput(dataTable, element);\n",
              "          const docLink = document.createElement('div');\n",
              "          docLink.innerHTML = docLinkHtml;\n",
              "          element.appendChild(docLink);\n",
              "        }\n",
              "      </script>\n",
              "    </div>\n",
              "  </div>\n",
              "  "
            ],
            "text/plain": [
              "   Family_1.0  Family_2.0  Family_3.0  Family_4.0  Education_1.0  \\\n",
              "0         0.0         1.0         0.0         0.0            0.0   \n",
              "1         0.0         0.0         0.0         1.0            0.0   \n",
              "2         1.0         0.0         0.0         0.0            1.0   \n",
              "3         1.0         0.0         0.0         0.0            0.0   \n",
              "4         0.0         0.0         0.0         1.0            1.0   \n",
              "5         0.0         0.0         1.0         0.0            0.0   \n",
              "6         1.0         0.0         0.0         0.0            0.0   \n",
              "7         1.0         0.0         0.0         0.0            0.0   \n",
              "8         0.0         0.0         0.0         1.0            0.0   \n",
              "9         1.0         0.0         0.0         0.0            1.0   \n",
              "\n",
              "   Education_2.0  Education_3.0  Securities Account_0.0  \\\n",
              "0            0.0            1.0                     1.0   \n",
              "1            1.0            0.0                     1.0   \n",
              "2            0.0            0.0                     1.0   \n",
              "3            0.0            1.0                     1.0   \n",
              "4            0.0            0.0                     1.0   \n",
              "5            0.0            1.0                     1.0   \n",
              "6            0.0            1.0                     1.0   \n",
              "7            1.0            0.0                     1.0   \n",
              "8            1.0            0.0                     1.0   \n",
              "9            0.0            0.0                     1.0   \n",
              "\n",
              "   Securities Account_1.0  CD Account_0.0  CD Account_1.0  Online_0.0  \\\n",
              "0                     0.0             1.0             0.0         0.0   \n",
              "1                     0.0             1.0             0.0         0.0   \n",
              "2                     0.0             1.0             0.0         0.0   \n",
              "3                     0.0             1.0             0.0         0.0   \n",
              "4                     0.0             1.0             0.0         0.0   \n",
              "5                     0.0             1.0             0.0         0.0   \n",
              "6                     0.0             1.0             0.0         1.0   \n",
              "7                     0.0             1.0             0.0         0.0   \n",
              "8                     0.0             1.0             0.0         1.0   \n",
              "9                     0.0             1.0             0.0         0.0   \n",
              "\n",
              "   Online_1.0  CreditCard_0.0  CreditCard_1.0  \n",
              "0         1.0             1.0             0.0  \n",
              "1         1.0             1.0             0.0  \n",
              "2         1.0             0.0             1.0  \n",
              "3         1.0             1.0             0.0  \n",
              "4         1.0             1.0             0.0  \n",
              "5         1.0             1.0             0.0  \n",
              "6         0.0             1.0             0.0  \n",
              "7         1.0             1.0             0.0  \n",
              "8         0.0             0.0             1.0  \n",
              "9         1.0             0.0             1.0  "
            ]
          },
          "execution_count": 28,
          "metadata": {},
          "output_type": "execute_result"
        }
      ],
      "source": [
        "X_train_cat.head(10)"
      ]
    },
    {
      "cell_type": "code",
      "execution_count": 29,
      "metadata": {
        "id": "CS_GFPJLPNdI"
      },
      "outputs": [],
      "source": [
        "X_test_cat=pd.DataFrame(ohe.transform(X_test_cat).todense(),columns=ohe.get_feature_names_out())"
      ]
    },
    {
      "cell_type": "code",
      "execution_count": 30,
      "metadata": {
        "id": "vaTGgJEqPOvP"
      },
      "outputs": [],
      "source": [
        "######### Combining Numeric and Categorical Data\n",
        "Train=pd.concat([X_train_num,X_train_cat],axis=1)"
      ]
    },
    {
      "cell_type": "code",
      "execution_count": 31,
      "metadata": {
        "colab": {
          "base_uri": "https://localhost:8080/"
        },
        "id": "A06K2nzNQNcY",
        "outputId": "6edc31b8-8bf8-4bfb-9e27-af4d479e43dc"
      },
      "outputs": [
        {
          "data": {
            "text/plain": [
              "(3500, 20)"
            ]
          },
          "execution_count": 31,
          "metadata": {},
          "output_type": "execute_result"
        }
      ],
      "source": [
        "Train.shape"
      ]
    },
    {
      "cell_type": "code",
      "execution_count": 32,
      "metadata": {
        "colab": {
          "base_uri": "https://localhost:8080/",
          "height": 444
        },
        "id": "VmMzoj2aQPO4",
        "outputId": "eacb7bbe-6c6f-494f-835f-712b3adc7542"
      },
      "outputs": [
        {
          "data": {
            "text/html": [
              "\n",
              "  <div id=\"df-4f24a518-bfda-48ab-922c-157e251df9c0\">\n",
              "    <div class=\"colab-df-container\">\n",
              "      <div>\n",
              "<style scoped>\n",
              "    .dataframe tbody tr th:only-of-type {\n",
              "        vertical-align: middle;\n",
              "    }\n",
              "\n",
              "    .dataframe tbody tr th {\n",
              "        vertical-align: top;\n",
              "    }\n",
              "\n",
              "    .dataframe thead th {\n",
              "        text-align: right;\n",
              "    }\n",
              "</style>\n",
              "<table border=\"1\" class=\"dataframe\">\n",
              "  <thead>\n",
              "    <tr style=\"text-align: right;\">\n",
              "      <th></th>\n",
              "      <th>Age</th>\n",
              "      <th>Experience</th>\n",
              "      <th>Income</th>\n",
              "      <th>CCAvg</th>\n",
              "      <th>Mortgage</th>\n",
              "      <th>Family_1.0</th>\n",
              "      <th>Family_2.0</th>\n",
              "      <th>Family_3.0</th>\n",
              "      <th>Family_4.0</th>\n",
              "      <th>Education_1.0</th>\n",
              "      <th>Education_2.0</th>\n",
              "      <th>Education_3.0</th>\n",
              "      <th>Securities Account_0.0</th>\n",
              "      <th>Securities Account_1.0</th>\n",
              "      <th>CD Account_0.0</th>\n",
              "      <th>CD Account_1.0</th>\n",
              "      <th>Online_0.0</th>\n",
              "      <th>Online_1.0</th>\n",
              "      <th>CreditCard_0.0</th>\n",
              "      <th>CreditCard_1.0</th>\n",
              "    </tr>\n",
              "  </thead>\n",
              "  <tbody>\n",
              "    <tr>\n",
              "      <th>0</th>\n",
              "      <td>0.066285</td>\n",
              "      <td>0.087957</td>\n",
              "      <td>-1.320429</td>\n",
              "      <td>-0.706115</td>\n",
              "      <td>-0.551912</td>\n",
              "      <td>0.0</td>\n",
              "      <td>1.0</td>\n",
              "      <td>0.0</td>\n",
              "      <td>0.0</td>\n",
              "      <td>0.0</td>\n",
              "      <td>0.0</td>\n",
              "      <td>1.0</td>\n",
              "      <td>1.0</td>\n",
              "      <td>0.0</td>\n",
              "      <td>1.0</td>\n",
              "      <td>0.0</td>\n",
              "      <td>0.0</td>\n",
              "      <td>1.0</td>\n",
              "      <td>1.0</td>\n",
              "      <td>0.0</td>\n",
              "    </tr>\n",
              "    <tr>\n",
              "      <th>1</th>\n",
              "      <td>-0.463392</td>\n",
              "      <td>-0.530394</td>\n",
              "      <td>0.396236</td>\n",
              "      <td>-0.306566</td>\n",
              "      <td>-0.551912</td>\n",
              "      <td>0.0</td>\n",
              "      <td>0.0</td>\n",
              "      <td>0.0</td>\n",
              "      <td>1.0</td>\n",
              "      <td>0.0</td>\n",
              "      <td>1.0</td>\n",
              "      <td>0.0</td>\n",
              "      <td>1.0</td>\n",
              "      <td>0.0</td>\n",
              "      <td>1.0</td>\n",
              "      <td>0.0</td>\n",
              "      <td>0.0</td>\n",
              "      <td>1.0</td>\n",
              "      <td>1.0</td>\n",
              "      <td>0.0</td>\n",
              "    </tr>\n",
              "    <tr>\n",
              "      <th>2</th>\n",
              "      <td>1.390479</td>\n",
              "      <td>1.501330</td>\n",
              "      <td>-0.711990</td>\n",
              "      <td>-0.649036</td>\n",
              "      <td>-0.551912</td>\n",
              "      <td>1.0</td>\n",
              "      <td>0.0</td>\n",
              "      <td>0.0</td>\n",
              "      <td>0.0</td>\n",
              "      <td>1.0</td>\n",
              "      <td>0.0</td>\n",
              "      <td>0.0</td>\n",
              "      <td>1.0</td>\n",
              "      <td>0.0</td>\n",
              "      <td>1.0</td>\n",
              "      <td>0.0</td>\n",
              "      <td>0.0</td>\n",
              "      <td>1.0</td>\n",
              "      <td>0.0</td>\n",
              "      <td>1.0</td>\n",
              "    </tr>\n",
              "    <tr>\n",
              "      <th>3</th>\n",
              "      <td>-1.346188</td>\n",
              "      <td>-1.237080</td>\n",
              "      <td>-0.690261</td>\n",
              "      <td>0.092982</td>\n",
              "      <td>-0.551912</td>\n",
              "      <td>1.0</td>\n",
              "      <td>0.0</td>\n",
              "      <td>0.0</td>\n",
              "      <td>0.0</td>\n",
              "      <td>0.0</td>\n",
              "      <td>0.0</td>\n",
              "      <td>1.0</td>\n",
              "      <td>1.0</td>\n",
              "      <td>0.0</td>\n",
              "      <td>1.0</td>\n",
              "      <td>0.0</td>\n",
              "      <td>0.0</td>\n",
              "      <td>1.0</td>\n",
              "      <td>1.0</td>\n",
              "      <td>0.0</td>\n",
              "    </tr>\n",
              "    <tr>\n",
              "      <th>4</th>\n",
              "      <td>-1.964145</td>\n",
              "      <td>-1.855431</td>\n",
              "      <td>-0.016633</td>\n",
              "      <td>0.378374</td>\n",
              "      <td>-0.551912</td>\n",
              "      <td>0.0</td>\n",
              "      <td>0.0</td>\n",
              "      <td>0.0</td>\n",
              "      <td>1.0</td>\n",
              "      <td>1.0</td>\n",
              "      <td>0.0</td>\n",
              "      <td>0.0</td>\n",
              "      <td>1.0</td>\n",
              "      <td>0.0</td>\n",
              "      <td>1.0</td>\n",
              "      <td>0.0</td>\n",
              "      <td>0.0</td>\n",
              "      <td>1.0</td>\n",
              "      <td>1.0</td>\n",
              "      <td>0.0</td>\n",
              "    </tr>\n",
              "    <tr>\n",
              "      <th>5</th>\n",
              "      <td>1.390479</td>\n",
              "      <td>1.501330</td>\n",
              "      <td>-0.299122</td>\n",
              "      <td>0.035904</td>\n",
              "      <td>-0.551912</td>\n",
              "      <td>0.0</td>\n",
              "      <td>0.0</td>\n",
              "      <td>1.0</td>\n",
              "      <td>0.0</td>\n",
              "      <td>0.0</td>\n",
              "      <td>0.0</td>\n",
              "      <td>1.0</td>\n",
              "      <td>1.0</td>\n",
              "      <td>0.0</td>\n",
              "      <td>1.0</td>\n",
              "      <td>0.0</td>\n",
              "      <td>0.0</td>\n",
              "      <td>1.0</td>\n",
              "      <td>1.0</td>\n",
              "      <td>0.0</td>\n",
              "    </tr>\n",
              "    <tr>\n",
              "      <th>6</th>\n",
              "      <td>-1.434467</td>\n",
              "      <td>-1.502088</td>\n",
              "      <td>0.374506</td>\n",
              "      <td>0.835001</td>\n",
              "      <td>-0.551912</td>\n",
              "      <td>1.0</td>\n",
              "      <td>0.0</td>\n",
              "      <td>0.0</td>\n",
              "      <td>0.0</td>\n",
              "      <td>0.0</td>\n",
              "      <td>0.0</td>\n",
              "      <td>1.0</td>\n",
              "      <td>1.0</td>\n",
              "      <td>0.0</td>\n",
              "      <td>1.0</td>\n",
              "      <td>0.0</td>\n",
              "      <td>1.0</td>\n",
              "      <td>0.0</td>\n",
              "      <td>1.0</td>\n",
              "      <td>0.0</td>\n",
              "    </tr>\n",
              "    <tr>\n",
              "      <th>7</th>\n",
              "      <td>0.507683</td>\n",
              "      <td>0.441301</td>\n",
              "      <td>2.156360</td>\n",
              "      <td>-0.820271</td>\n",
              "      <td>-0.551912</td>\n",
              "      <td>1.0</td>\n",
              "      <td>0.0</td>\n",
              "      <td>0.0</td>\n",
              "      <td>0.0</td>\n",
              "      <td>0.0</td>\n",
              "      <td>1.0</td>\n",
              "      <td>0.0</td>\n",
              "      <td>1.0</td>\n",
              "      <td>0.0</td>\n",
              "      <td>1.0</td>\n",
              "      <td>0.0</td>\n",
              "      <td>0.0</td>\n",
              "      <td>1.0</td>\n",
              "      <td>1.0</td>\n",
              "      <td>0.0</td>\n",
              "    </tr>\n",
              "    <tr>\n",
              "      <th>8</th>\n",
              "      <td>1.125640</td>\n",
              "      <td>1.236323</td>\n",
              "      <td>-0.299122</td>\n",
              "      <td>-0.192409</td>\n",
              "      <td>-0.551912</td>\n",
              "      <td>0.0</td>\n",
              "      <td>0.0</td>\n",
              "      <td>0.0</td>\n",
              "      <td>1.0</td>\n",
              "      <td>0.0</td>\n",
              "      <td>1.0</td>\n",
              "      <td>0.0</td>\n",
              "      <td>1.0</td>\n",
              "      <td>0.0</td>\n",
              "      <td>1.0</td>\n",
              "      <td>0.0</td>\n",
              "      <td>1.0</td>\n",
              "      <td>0.0</td>\n",
              "      <td>0.0</td>\n",
              "      <td>1.0</td>\n",
              "    </tr>\n",
              "    <tr>\n",
              "      <th>9</th>\n",
              "      <td>-1.169629</td>\n",
              "      <td>-1.060408</td>\n",
              "      <td>-0.299122</td>\n",
              "      <td>-0.420723</td>\n",
              "      <td>-0.551912</td>\n",
              "      <td>1.0</td>\n",
              "      <td>0.0</td>\n",
              "      <td>0.0</td>\n",
              "      <td>0.0</td>\n",
              "      <td>1.0</td>\n",
              "      <td>0.0</td>\n",
              "      <td>0.0</td>\n",
              "      <td>1.0</td>\n",
              "      <td>0.0</td>\n",
              "      <td>1.0</td>\n",
              "      <td>0.0</td>\n",
              "      <td>0.0</td>\n",
              "      <td>1.0</td>\n",
              "      <td>0.0</td>\n",
              "      <td>1.0</td>\n",
              "    </tr>\n",
              "  </tbody>\n",
              "</table>\n",
              "</div>\n",
              "      <button class=\"colab-df-convert\" onclick=\"convertToInteractive('df-4f24a518-bfda-48ab-922c-157e251df9c0')\"\n",
              "              title=\"Convert this dataframe to an interactive table.\"\n",
              "              style=\"display:none;\">\n",
              "        \n",
              "  <svg xmlns=\"http://www.w3.org/2000/svg\" height=\"24px\"viewBox=\"0 0 24 24\"\n",
              "       width=\"24px\">\n",
              "    <path d=\"M0 0h24v24H0V0z\" fill=\"none\"/>\n",
              "    <path d=\"M18.56 5.44l.94 2.06.94-2.06 2.06-.94-2.06-.94-.94-2.06-.94 2.06-2.06.94zm-11 1L8.5 8.5l.94-2.06 2.06-.94-2.06-.94L8.5 2.5l-.94 2.06-2.06.94zm10 10l.94 2.06.94-2.06 2.06-.94-2.06-.94-.94-2.06-.94 2.06-2.06.94z\"/><path d=\"M17.41 7.96l-1.37-1.37c-.4-.4-.92-.59-1.43-.59-.52 0-1.04.2-1.43.59L10.3 9.45l-7.72 7.72c-.78.78-.78 2.05 0 2.83L4 21.41c.39.39.9.59 1.41.59.51 0 1.02-.2 1.41-.59l7.78-7.78 2.81-2.81c.8-.78.8-2.07 0-2.86zM5.41 20L4 18.59l7.72-7.72 1.47 1.35L5.41 20z\"/>\n",
              "  </svg>\n",
              "      </button>\n",
              "      \n",
              "  <style>\n",
              "    .colab-df-container {\n",
              "      display:flex;\n",
              "      flex-wrap:wrap;\n",
              "      gap: 12px;\n",
              "    }\n",
              "\n",
              "    .colab-df-convert {\n",
              "      background-color: #E8F0FE;\n",
              "      border: none;\n",
              "      border-radius: 50%;\n",
              "      cursor: pointer;\n",
              "      display: none;\n",
              "      fill: #1967D2;\n",
              "      height: 32px;\n",
              "      padding: 0 0 0 0;\n",
              "      width: 32px;\n",
              "    }\n",
              "\n",
              "    .colab-df-convert:hover {\n",
              "      background-color: #E2EBFA;\n",
              "      box-shadow: 0px 1px 2px rgba(60, 64, 67, 0.3), 0px 1px 3px 1px rgba(60, 64, 67, 0.15);\n",
              "      fill: #174EA6;\n",
              "    }\n",
              "\n",
              "    [theme=dark] .colab-df-convert {\n",
              "      background-color: #3B4455;\n",
              "      fill: #D2E3FC;\n",
              "    }\n",
              "\n",
              "    [theme=dark] .colab-df-convert:hover {\n",
              "      background-color: #434B5C;\n",
              "      box-shadow: 0px 1px 3px 1px rgba(0, 0, 0, 0.15);\n",
              "      filter: drop-shadow(0px 1px 2px rgba(0, 0, 0, 0.3));\n",
              "      fill: #FFFFFF;\n",
              "    }\n",
              "  </style>\n",
              "\n",
              "      <script>\n",
              "        const buttonEl =\n",
              "          document.querySelector('#df-4f24a518-bfda-48ab-922c-157e251df9c0 button.colab-df-convert');\n",
              "        buttonEl.style.display =\n",
              "          google.colab.kernel.accessAllowed ? 'block' : 'none';\n",
              "\n",
              "        async function convertToInteractive(key) {\n",
              "          const element = document.querySelector('#df-4f24a518-bfda-48ab-922c-157e251df9c0');\n",
              "          const dataTable =\n",
              "            await google.colab.kernel.invokeFunction('convertToInteractive',\n",
              "                                                     [key], {});\n",
              "          if (!dataTable) return;\n",
              "\n",
              "          const docLinkHtml = 'Like what you see? Visit the ' +\n",
              "            '<a target=\"_blank\" href=https://colab.research.google.com/notebooks/data_table.ipynb>data table notebook</a>'\n",
              "            + ' to learn more about interactive tables.';\n",
              "          element.innerHTML = '';\n",
              "          dataTable['output_type'] = 'display_data';\n",
              "          await google.colab.output.renderOutput(dataTable, element);\n",
              "          const docLink = document.createElement('div');\n",
              "          docLink.innerHTML = docLinkHtml;\n",
              "          element.appendChild(docLink);\n",
              "        }\n",
              "      </script>\n",
              "    </div>\n",
              "  </div>\n",
              "  "
            ],
            "text/plain": [
              "        Age  Experience    Income     CCAvg  Mortgage  Family_1.0  Family_2.0  \\\n",
              "0  0.066285    0.087957 -1.320429 -0.706115 -0.551912         0.0         1.0   \n",
              "1 -0.463392   -0.530394  0.396236 -0.306566 -0.551912         0.0         0.0   \n",
              "2  1.390479    1.501330 -0.711990 -0.649036 -0.551912         1.0         0.0   \n",
              "3 -1.346188   -1.237080 -0.690261  0.092982 -0.551912         1.0         0.0   \n",
              "4 -1.964145   -1.855431 -0.016633  0.378374 -0.551912         0.0         0.0   \n",
              "5  1.390479    1.501330 -0.299122  0.035904 -0.551912         0.0         0.0   \n",
              "6 -1.434467   -1.502088  0.374506  0.835001 -0.551912         1.0         0.0   \n",
              "7  0.507683    0.441301  2.156360 -0.820271 -0.551912         1.0         0.0   \n",
              "8  1.125640    1.236323 -0.299122 -0.192409 -0.551912         0.0         0.0   \n",
              "9 -1.169629   -1.060408 -0.299122 -0.420723 -0.551912         1.0         0.0   \n",
              "\n",
              "   Family_3.0  Family_4.0  Education_1.0  Education_2.0  Education_3.0  \\\n",
              "0         0.0         0.0            0.0            0.0            1.0   \n",
              "1         0.0         1.0            0.0            1.0            0.0   \n",
              "2         0.0         0.0            1.0            0.0            0.0   \n",
              "3         0.0         0.0            0.0            0.0            1.0   \n",
              "4         0.0         1.0            1.0            0.0            0.0   \n",
              "5         1.0         0.0            0.0            0.0            1.0   \n",
              "6         0.0         0.0            0.0            0.0            1.0   \n",
              "7         0.0         0.0            0.0            1.0            0.0   \n",
              "8         0.0         1.0            0.0            1.0            0.0   \n",
              "9         0.0         0.0            1.0            0.0            0.0   \n",
              "\n",
              "   Securities Account_0.0  Securities Account_1.0  CD Account_0.0  \\\n",
              "0                     1.0                     0.0             1.0   \n",
              "1                     1.0                     0.0             1.0   \n",
              "2                     1.0                     0.0             1.0   \n",
              "3                     1.0                     0.0             1.0   \n",
              "4                     1.0                     0.0             1.0   \n",
              "5                     1.0                     0.0             1.0   \n",
              "6                     1.0                     0.0             1.0   \n",
              "7                     1.0                     0.0             1.0   \n",
              "8                     1.0                     0.0             1.0   \n",
              "9                     1.0                     0.0             1.0   \n",
              "\n",
              "   CD Account_1.0  Online_0.0  Online_1.0  CreditCard_0.0  CreditCard_1.0  \n",
              "0             0.0         0.0         1.0             1.0             0.0  \n",
              "1             0.0         0.0         1.0             1.0             0.0  \n",
              "2             0.0         0.0         1.0             0.0             1.0  \n",
              "3             0.0         0.0         1.0             1.0             0.0  \n",
              "4             0.0         0.0         1.0             1.0             0.0  \n",
              "5             0.0         0.0         1.0             1.0             0.0  \n",
              "6             0.0         1.0         0.0             1.0             0.0  \n",
              "7             0.0         0.0         1.0             1.0             0.0  \n",
              "8             0.0         1.0         0.0             0.0             1.0  \n",
              "9             0.0         0.0         1.0             0.0             1.0  "
            ]
          },
          "execution_count": 32,
          "metadata": {},
          "output_type": "execute_result"
        }
      ],
      "source": [
        "Train.head(10)"
      ]
    },
    {
      "cell_type": "code",
      "execution_count": 33,
      "metadata": {
        "id": "pdbAvvqVQTbg"
      },
      "outputs": [],
      "source": [
        "Test= pd.concat([X_test_num,X_test_cat],axis=1)"
      ]
    },
    {
      "cell_type": "code",
      "execution_count": 34,
      "metadata": {
        "colab": {
          "base_uri": "https://localhost:8080/"
        },
        "id": "oaxXVRtsRLqA",
        "outputId": "dd731dc5-3ab8-4cfc-bed9-0843962f4723"
      },
      "outputs": [
        {
          "data": {
            "text/plain": [
              "(1500, 20)"
            ]
          },
          "execution_count": 34,
          "metadata": {},
          "output_type": "execute_result"
        }
      ],
      "source": [
        "Test.shape"
      ]
    },
    {
      "cell_type": "code",
      "execution_count": 35,
      "metadata": {
        "id": "9udRdUu4RN0g"
      },
      "outputs": [],
      "source": [
        "### Mod\n",
        "y_train=y_train.astype('category')\n",
        "y_test=y_test.astype('category')"
      ]
    },
    {
      "cell_type": "code",
      "execution_count": 51,
      "metadata": {
        "colab": {
          "base_uri": "https://localhost:8080/"
        },
        "id": "G4AWzKapRbbI",
        "outputId": "b0735c42-f687-4736-e299-9ad8e168a51c"
      },
      "outputs": [
        {
          "data": {
            "text/plain": [
              "SVC(C=2)"
            ]
          },
          "execution_count": 51,
          "metadata": {},
          "output_type": "execute_result"
        }
      ],
      "source": [
        "mod=SVC(kernel='rbf',C=2)\n",
        "mod.fit(Train,y_train)"
      ]
    },
    {
      "cell_type": "code",
      "execution_count": 52,
      "metadata": {
        "id": "mmjHhr4lSORZ"
      },
      "outputs": [],
      "source": [
        "preds_train=mod.predict(Train)"
      ]
    },
    {
      "cell_type": "code",
      "execution_count": 53,
      "metadata": {
        "id": "Kveao1gaSaog"
      },
      "outputs": [],
      "source": [
        "preds_test=mod.predict(Test)"
      ]
    },
    {
      "cell_type": "code",
      "execution_count": 54,
      "metadata": {
        "colab": {
          "base_uri": "https://localhost:8080/"
        },
        "id": "-oGI6Gd5SgDw",
        "outputId": "86922812-1538-4e42-8102-9ef5b7f551e8"
      },
      "outputs": [
        {
          "data": {
            "text/plain": [
              "array([[3163,    3],\n",
              "       [  35,  299]])"
            ]
          },
          "execution_count": 54,
          "metadata": {},
          "output_type": "execute_result"
        }
      ],
      "source": [
        "confusion_matrix(y_train,preds_train)"
      ]
    },
    {
      "cell_type": "code",
      "execution_count": 55,
      "metadata": {
        "colab": {
          "base_uri": "https://localhost:8080/"
        },
        "id": "6dfVtamTSkSJ",
        "outputId": "e740cf4d-dc12-4b98-84c4-779e45afacca"
      },
      "outputs": [
        {
          "data": {
            "text/plain": [
              "array([[1351,    3],\n",
              "       [  22,  124]])"
            ]
          },
          "execution_count": 55,
          "metadata": {},
          "output_type": "execute_result"
        }
      ],
      "source": [
        "confusion_matrix(y_test,preds_test)"
      ]
    },
    {
      "cell_type": "code",
      "execution_count": 56,
      "metadata": {
        "colab": {
          "base_uri": "https://localhost:8080/"
        },
        "id": "ZdxN7EAASol5",
        "outputId": "36ebe3cd-87be-4378-8cc0-36c01a449699"
      },
      "outputs": [
        {
          "name": "stdout",
          "output_type": "stream",
          "text": [
            "              precision    recall  f1-score   support\n",
            "\n",
            "           0       0.98      1.00      0.99      1354\n",
            "           1       0.98      0.85      0.91       146\n",
            "\n",
            "    accuracy                           0.98      1500\n",
            "   macro avg       0.98      0.92      0.95      1500\n",
            "weighted avg       0.98      0.98      0.98      1500\n",
            "\n"
          ]
        }
      ],
      "source": [
        "print(classification_report(y_test,preds_test))"
      ]
    },
    {
      "cell_type": "code",
      "execution_count": null,
      "metadata": {
        "id": "fO_9btgXTK5p"
      },
      "outputs": [],
      "source": []
    }
  ],
  "metadata": {
    "colab": {
      "provenance": []
    },
    "kernelspec": {
      "display_name": "Python 3.10.2 64-bit",
      "language": "python",
      "name": "python3"
    },
    "language_info": {
      "name": "python",
      "version": "3.10.2"
    },
    "vscode": {
      "interpreter": {
        "hash": "aee8b7b246df8f9039afb4144a1f6fd8d2ca17a180786b69acc140d282b71a49"
      }
    }
  },
  "nbformat": 4,
  "nbformat_minor": 0
}
