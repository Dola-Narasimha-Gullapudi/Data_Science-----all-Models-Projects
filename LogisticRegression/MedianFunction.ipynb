{
 "cells": [
  {
   "cell_type": "code",
   "execution_count": 48,
   "id": "0a9c38ad",
   "metadata": {},
   "outputs": [],
   "source": [
    "def Medn(l):\n",
    "    l.sort()\n",
    "    if len(l)%2 == 0:\n",
    "        return (l[len(l)//2] + l[len(l)//2 - 1]) * 0.5\n",
    "    else:\n",
    "        return l[(len(l)//2)]                             "
   ]
  },
  {
   "cell_type": "code",
   "execution_count": 59,
   "id": "c942c647",
   "metadata": {},
   "outputs": [
    {
     "data": {
      "text/plain": [
       "75"
      ]
     },
     "execution_count": 59,
     "metadata": {},
     "output_type": "execute_result"
    }
   ],
   "source": [
    "Mylist = [75, 25, 50, 100, 125]\n",
    "Medn(Mylist)"
   ]
  },
  {
   "cell_type": "code",
   "execution_count": 63,
   "id": "c43a19de",
   "metadata": {},
   "outputs": [],
   "source": [
    "def Qrtls(l):\n",
    "    l.sort()\n",
    "    if len(l)%2 == 0:\n",
    "        l1 = l[0:len(l)//2] + [Medn(l)]\n",
    "        l2 = [Medn(l)] + l[len(l)//2: ]\n",
    "        return l1, l2\n",
    "    else:\n",
    "        l1 = l[0: len(l)//2 + 1]\n",
    "        l2 = l[len(l)//2: ]\n",
    "        return l1, l2"
   ]
  },
  {
   "cell_type": "code",
   "execution_count": 64,
   "id": "74875a06",
   "metadata": {},
   "outputs": [
    {
     "data": {
      "text/plain": [
       "([25, 50, 75], [75, 100, 125])"
      ]
     },
     "execution_count": 64,
     "metadata": {},
     "output_type": "execute_result"
    }
   ],
   "source": [
    "Qrtls(Mylist)"
   ]
  },
  {
   "cell_type": "code",
   "execution_count": null,
   "id": "e1a2f031",
   "metadata": {},
   "outputs": [],
   "source": []
  }
 ],
 "metadata": {
  "kernelspec": {
   "display_name": "Python 3.10.2 64-bit",
   "language": "python",
   "name": "python3"
  },
  "language_info": {
   "codemirror_mode": {
    "name": "ipython",
    "version": 3
   },
   "file_extension": ".py",
   "mimetype": "text/x-python",
   "name": "python",
   "nbconvert_exporter": "python",
   "pygments_lexer": "ipython3",
   "version": "3.10.2"
  },
  "vscode": {
   "interpreter": {
    "hash": "aee8b7b246df8f9039afb4144a1f6fd8d2ca17a180786b69acc140d282b71a49"
   }
  }
 },
 "nbformat": 4,
 "nbformat_minor": 5
}
